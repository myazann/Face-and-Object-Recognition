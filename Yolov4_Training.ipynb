{
  "nbformat": 4,
  "nbformat_minor": 0,
  "metadata": {
    "colab": {
      "name": "Yolov4_Training.ipynb",
      "provenance": [],
      "collapsed_sections": [],
      "toc_visible": true,
      "include_colab_link": true
    },
    "kernelspec": {
      "name": "python3",
      "display_name": "Python 3"
    },
    "accelerator": "GPU"
  },
  "cells": [
    {
      "cell_type": "markdown",
      "metadata": {
        "id": "view-in-github",
        "colab_type": "text"
      },
      "source": [
        "<a href=\"https://colab.research.google.com/github/myazann/Face-and-Object-Recognition-OCR/blob/main/Yolov4_Training.ipynb\" target=\"_parent\"><img src=\"https://colab.research.google.com/assets/colab-badge.svg\" alt=\"Open In Colab\"/></a>"
      ]
    },
    {
      "cell_type": "markdown",
      "metadata": {
        "id": "CTqTBmNwtj7F"
      },
      "source": [
        "## Mount with your Google Drive"
      ]
    },
    {
      "cell_type": "code",
      "metadata": {
        "id": "6ZBqlVeQtY0O",
        "colab": {
          "base_uri": "https://localhost:8080/"
        },
        "outputId": "a5c6930b-6c0f-4697-d38f-4bc4a3c97da1"
      },
      "source": [
        "from google.colab import drive\n",
        "drive.mount('/content/drive')"
      ],
      "execution_count": null,
      "outputs": [
        {
          "output_type": "stream",
          "text": [
            "Mounted at /content/drive\n"
          ],
          "name": "stdout"
        }
      ]
    },
    {
      "cell_type": "markdown",
      "metadata": {
        "id": "HalkELEPW0Xk"
      },
      "source": [
        "## Setup darknet environment"
      ]
    },
    {
      "cell_type": "code",
      "metadata": {
        "id": "PYhvedK5An20"
      },
      "source": [
        "# check whether GPU is provided\n",
        "!nvcc --version"
      ],
      "execution_count": null,
      "outputs": []
    },
    {
      "cell_type": "code",
      "metadata": {
        "id": "chLx6CYonvRq"
      },
      "source": [
        "import os\n",
        "assert os.getcwd()=='/content', 'Directory should be \"/content\" instead of \"{}\"'.format(os.getcwd())\n",
        "\n",
        "# remove the existing folder if have\n",
        "#!rm -r darknet_for_colab\n",
        "\n",
        "# download and compile darknet_for_colab\n",
        "!git clone https://github.com/quangnhat185/darknet_for_colab.git\n",
        "%cd darknet_for_colab\n",
        "!make\n",
        "!chmod +x ./darknet"
      ],
      "execution_count": null,
      "outputs": []
    },
    {
      "cell_type": "markdown",
      "metadata": {
        "id": "Lxj5xT4RXorl"
      },
      "source": [
        "## Download yolov4 pre-trained weights\n",
        "This is not necessary if you are continuing the training with your weights."
      ]
    },
    {
      "cell_type": "code",
      "metadata": {
        "id": "fR_c5rzB1CMM"
      },
      "source": [
        "assert os.getcwd()=='/content/darknet_for_colab', 'Directory should be \"/content/darknet_for_colab\" instead of \"{}\"'.format(os.getcwd())\n",
        "!wget https://github.com/AlexeyAB/darknet/releases/download/darknet_yolo_v3_optimal/yolov4.conv.137"
      ],
      "execution_count": null,
      "outputs": []
    },
    {
      "cell_type": "markdown",
      "metadata": {
        "id": "KUGTcRrWMXA_"
      },
      "source": [
        "## Getting images from Google Drive"
      ]
    },
    {
      "cell_type": "code",
      "metadata": {
        "id": "F01vnyJzITfR"
      },
      "source": [
        "os.chdir(\"/content/drive/My Drive\")\n",
        "\n",
        "!cp dataset4.zip /content/darknet_for_colab/data\n",
        "\n",
        "os.chdir(\"/content/darknet_for_colab\")"
      ],
      "execution_count": null,
      "outputs": []
    },
    {
      "cell_type": "code",
      "metadata": {
        "id": "oI5SIHq_2eoW"
      },
      "source": [
        "%cd data\n",
        "assert os.getcwd()=='/content/darknet_for_colab/data', 'Directory should be \"/content/darknet_for_colab/data\" instead of \"{}\"'.format(os.getcwd())\n",
        "\n",
        "# download custom data of common traffic signs\n",
        "#!wget --no-check-certificate \"https://onedrive.live.com/download?cid=A86CBC7F31A1C06B&resid=A86CBC7F31A1C06B%21121&authkey=AMUUk0Np4tqH3n4\" -O ts.zip\n",
        "!unzip dataset4.zip\n",
        "!rm -f dataset4.zip\n",
        "!ls\n",
        "%cd ..\n"
      ],
      "execution_count": null,
      "outputs": []
    },
    {
      "cell_type": "markdown",
      "metadata": {
        "id": "UD6Lrif_YGaU"
      },
      "source": [
        "## Visualize custom dataset examples (optional)"
      ]
    },
    {
      "cell_type": "code",
      "metadata": {
        "id": "1SMVV3xXYgk-"
      },
      "source": [
        "assert os.getcwd()=='/content/darknet_for_colab', 'Directory should be \"/content/darknet_for_colab\" instead of \"{}\"'.format(os.getcwd())\n",
        "\n",
        "import matplotlib.pyplot as plt\n",
        "import matplotlib.gridspec as gridspec\n",
        "import glob\n",
        "\n",
        "def read_label(image_path):\n",
        "  file_name = image_path.replace('.jpg', '.txt')\n",
        "  with open(file_name, 'rt') as file:\n",
        "    print(os.path.basename(file_name) + ': \\n' + file.read())\n",
        "\n",
        "image_path = glob.glob(\"data/ts/*.jpg\")\n",
        "fig = plt.figure(figsize=(12,8))\n",
        "cols = 2\n",
        "rows = 2\n",
        "grid = gridspec.GridSpec(nrows=rows, ncols=cols, figure=fig)\n",
        "for i in range(cols*rows):\n",
        "  fig.add_subplot(grid[i])\n",
        "  image=plt.imread(image_path[i])\n",
        "  plt.title(os.path.basename(image_path[i]))\n",
        "  plt.axis(False)\n",
        "  plt.imshow(image)\n",
        "  read_label(image_path[i])\n",
        "\n",
        "plt.savefig(\"dataset_examples.jpg\", dpi=300)"
      ],
      "execution_count": null,
      "outputs": []
    },
    {
      "cell_type": "markdown",
      "metadata": {
        "id": "187p7jTS5QVa"
      },
      "source": [
        "## Modify yolov4 architecture\n",
        "\n",
        "\n",
        "##!! yolov4_config.py and yolov4.data files should be changed according to your setup. For example I have changed class number to 6.\n"
      ]
    },
    {
      "cell_type": "code",
      "metadata": {
        "id": "hJPivcaZ4sqA"
      },
      "source": [
        "assert os.getcwd()=='/content/darknet_for_colab', 'Directory should be \"/content/darknet_for_colab\" instead of \"{}\"'.format(os.getcwd())\n",
        "\n",
        "# Run python script to create our customize yolov4_custom_train.cfg \n",
        "# and yolov4_custom_tes.cfg in folder /cfg\n",
        "!python yolov4_setup.py"
      ],
      "execution_count": null,
      "outputs": []
    },
    {
      "cell_type": "markdown",
      "metadata": {
        "id": "eD1OPbAmYkX7"
      },
      "source": [
        "## Create symbolic link in Drive\n",
        "\n",
        "Backup folder in darknet gets removed during training, so we have to create a backup folder in our drive and move it here."
      ]
    },
    {
      "cell_type": "code",
      "metadata": {
        "id": "OUnyu3Gr6I_1"
      },
      "source": [
        "assert os.getcwd()=='/content/darknet_for_colab', 'Directory should be \"/content/darknet_for_colab\" instead of \"{}\"'.format(os.getcwd())\n",
        "\n",
        "!rm -r backup\n",
        "\n",
        "os.chdir(\"/content/drive/My Drive\")\n",
        "\n",
        "## /content/drive/My Drive klasöründe el ile backup dosyası oluştur.\n",
        "!cp -r backup /content/darknet_for_colab\n",
        "\n",
        "os.chdir(\"/content/darknet_for_colab\")"
      ],
      "execution_count": null,
      "outputs": []
    },
    {
      "cell_type": "markdown",
      "metadata": {
        "id": "2NGahaL7KtZg"
      },
      "source": [
        "Getting my last trained weights from the drive.\n"
      ]
    },
    {
      "cell_type": "code",
      "metadata": {
        "id": "lTG7tXAbXAR-"
      },
      "source": [
        "os.chdir(\"/content/drive/My Drive\")\n",
        "\n",
        "!cp yolov4_custom_train_last.weights /content/darknet_for_colab\n",
        "\n",
        "os.chdir(\"/content/darknet_for_colab\")"
      ],
      "execution_count": null,
      "outputs": []
    },
    {
      "cell_type": "markdown",
      "metadata": {
        "id": "tl5GHQf5ZEh3"
      },
      "source": [
        "## Training \n",
        "\n",
        "If you are training from scratch, change weights to yolov4.conv.137"
      ]
    },
    {
      "cell_type": "code",
      "metadata": {
        "id": "e7f6_fGm7vFb"
      },
      "source": [
        "assert os.getcwd()=='/content/darknet_for_colab', 'Directory should be \"/content/darknet_for_colab\" instead of \"{}\"'.format(os.getcwd())\n",
        "\n",
        "!./darknet detector train data/yolov4.data cfg/yolov4_custom_train.cfg yolov4_custom_train_last.weights -dont_show -map\n",
        "#If you get CUDA out of memory adjust subdivisions above!\n",
        "#adjust max batches down for shorter training above"
      ],
      "execution_count": null,
      "outputs": []
    },
    {
      "cell_type": "markdown",
      "metadata": {
        "id": "azzJCBjMZO6Y"
      },
      "source": [
        "## Visualize training result"
      ]
    },
    {
      "cell_type": "code",
      "metadata": {
        "id": "R4ruwfrV9GUR"
      },
      "source": [
        "assert os.getcwd()=='/content/darknet_for_colab', 'Directory should be \"/content/darknet_for_colab\" instead of \"{}\"'.format(os.getcwd())\n",
        "\n",
        "# Plotting training result after 2000 epochs\n",
        "import matplotlib.pyplot as plt\n",
        "fig = plt.figure(figsize=(10,10))\n",
        "train_result = plt.imread(\"chart.png\")\n",
        "plt.axis(False)\n",
        "plt.imshow(train_result)"
      ],
      "execution_count": null,
      "outputs": []
    }
  ]
}